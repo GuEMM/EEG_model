{
 "cells": [
  {
   "cell_type": "markdown",
   "id": "e45edfdb-f1fe-4870-8b4f-7de45aff1e58",
   "metadata": {},
   "source": [
    "# **EXAMPLE CODE FOR RUNNING EEG MODEL in JULIA** \n",
    "Julia version: 1.8.3\n",
    "\n",
    "Packages required: Random, Distributions, DelimitedFiles, Plots\n",
    "\n",
    "**References:** Galadi et. al, 2019, Pretel et. al, 2021; Menesse y Torres, 2023\n",
    "\n",
    "**Repository link**: https://github.com/GuEMM/EEG_model.git"
   ]
  },
  {
   "cell_type": "code",
   "execution_count": 3,
   "id": "36fe0e08-eeff-462f-8c08-af33b8402154",
   "metadata": {},
   "outputs": [],
   "source": [
    "include(\"EEG_LIF_model.jl\");"
   ]
  },
  {
   "cell_type": "code",
   "execution_count": 4,
   "id": "5a6b2a42-1d6c-4aff-910e-895a38302064",
   "metadata": {},
   "outputs": [],
   "source": [
    "#Sample time window (for time binning)\n",
    "dts = 100\n",
    "\n",
    "#Integration time step\n",
    "h = 4/100\n",
    "\n",
    "#Max run time\n",
    "T = 100000\n",
    "\n",
    "#Transient time\n",
    "Transient = 50000\n",
    "\n",
    "#Square grid network parameters\n",
    "#Number of excitatory columns\n",
    "ce = 14\n",
    "\n",
    "#Number of excitatory neurons\n",
    "Ne = ce^2\n",
    "\n",
    "#Number of inhibitory neurons\n",
    "Ni = Int(ce/2)^2\n",
    "\n",
    "#Total network size\n",
    "N = Ne+Ni\n",
    "\n",
    "#Parameter space grid size\n",
    "#Number of values for model parameter mu and tau_{rec}\n",
    "Ntau = 5\n",
    "\n",
    "#Save file directory\n",
    "ddir = \"tau_mu_map_$(Ntau)x$(Ntau)/\"\n",
    "\n",
    "#Create directory if does not exist\n",
    "isdir(ddir) || mkdir(ddir);"
   ]
  },
  {
   "cell_type": "code",
   "execution_count": 5,
   "id": "56cd6412-91bc-4aca-8b03-fcab8f6105be",
   "metadata": {},
   "outputs": [],
   "source": [
    "#Build network (Two lattice)\n",
    "KK,C,KIout = BuildNet(ce);\n",
    "\n",
    "#############################\n",
    "#Obtain Adjacency matrix\n",
    "A = zeros(Bool,N,N)\n",
    "\n",
    "ll = zeros(Int,N)\n",
    "\n",
    "for i in 1:N\n",
    "    \n",
    "    l = sum(KK[i,:].>0)\n",
    "    \n",
    "    ll[i] = l\n",
    "    \n",
    "    A[i,KK[i,1:l]] .= 1\n",
    "    \n",
    "end\n"
   ]
  },
  {
   "cell_type": "code",
   "execution_count": 6,
   "id": "7d834638-2c45-4b79-a869-b4849890023a",
   "metadata": {},
   "outputs": [
    {
     "data": {
      "text/plain": [
       "\"For plotting the network, uncomment the last line \\nFirst Plot (Red:Excitatory, Blue:Inhibiotory)\\nSecond plot (Red:Monitored neuron groups, White:Not monitored groups)\""
      ]
     },
     "execution_count": 6,
     "metadata": {},
     "output_type": "execute_result"
    }
   ],
   "source": [
    "#As done in Mereles and Torres (2023), average membrane potential of 5 group of E/I neurons will be monitored\n",
    "\n",
    "#List of central neuron of each group\n",
    "IIdn = [9,13,25,37,41]\n",
    "\n",
    "\"\"\"For plotting the network, uncomment the last line \n",
    "First Plot (Red:Excitatory, Blue:Inhibiotory)\n",
    "Second plot (Red:Monitored neuron groups, White:Not monitored groups)\"\"\"\n",
    "\n",
    "#Plot_Net(C,IIdn)\n"
   ]
  },
  {
   "cell_type": "code",
   "execution_count": 7,
   "id": "c4afc7c4-2551-4396-a95f-7f4a80edcad2",
   "metadata": {},
   "outputs": [],
   "source": [
    "######################\n",
    "#MODEL PARAMTERS\n",
    "######################\n",
    "\n",
    "#Excitatory synaptic max amplitude\n",
    "V0d = 10\n",
    "\n",
    "#Inhibitory synaptic max amplitude\n",
    "V0h = -4. *V0d\n",
    "\n",
    "#Noise level in inhibitory population\n",
    "nu = 0.0\n",
    "\n",
    "#Range of synaptic resources recovery time constant\n",
    "taurS = LinRange(0,300,Ntau+1)\n",
    "\n",
    "#Range of excitatory neuron noise level\n",
    "muS = LinRange(0,15,Ntau+1);\n"
   ]
  },
  {
   "cell_type": "code",
   "execution_count": 6,
   "id": "94104e01-9a9b-4972-b094-f0eb048c28ca",
   "metadata": {},
   "outputs": [
    {
     "name": "stdout",
     "output_type": "stream",
     "text": [
      "taur=240.0 mu=0.0:: OK! \n",
      "taur=120.0 mu=0.0:: OK! \n",
      "taur=180.0 mu=0.0:: OK! \n",
      "taur=60.0 mu=0.0:: OK! \n",
      "taur=0.0 mu=0.0:: OK! \n",
      "taur=300.0 mu=0.0:: OK! \n",
      "taur=120.0 mu=3.0:: OK! \n",
      "taur=240.0 mu=3.0:: OK! \n",
      "taur=60.0 mu=3.0:: OK! \n",
      "taur=180.0 mu=3.0:: OK! \n",
      "taur=0.0 mu=3.0:: OK! \n",
      "taur=300.0 mu=3.0:: OK! \n",
      "taur=0.0 mu=6.0:: OK! \n",
      "taur=240.0 mu=6.0:: OK! \n",
      "taur=300.0 mu=6.0:: OK! \n",
      "taur=120.0 mu=6.0:: OK! \n",
      "taur=180.0 mu=6.0:: OK! \n",
      "taur=60.0 mu=6.0:: OK! \n",
      "taur=120.0 mu=9.0:: OK! \n",
      "taur=0.0 mu=9.0:: OK! \n",
      "taur=240.0 mu=9.0:: OK! \n",
      "taur=60.0 mu=9.0:: OK! \n",
      "taur=180.0 mu=9.0:: OK! \n",
      "taur=300.0 mu=9.0:: OK! \n",
      "taur=0.0 mu=12.0:: OK! \n",
      "taur=60.0 mu=12.0:: OK! \n",
      "taur=180.0 mu=12.0:: OK! \n",
      "taur=300.0 mu=12.0:: OK! \n",
      "taur=120.0 mu=12.0:: OK! \n",
      "taur=240.0 mu=12.0:: OK! \n",
      "taur=60.0 mu=15.0:: OK! \n",
      "taur=240.0 mu=15.0:: OK! \n",
      "taur=180.0 mu=15.0:: OK! \n",
      "taur=120.0 mu=15.0:: OK! \n",
      "taur=0.0 mu=15.0:: OK! \n",
      "taur=300.0 mu=15.0:: OK! \n"
     ]
    }
   ],
   "source": [
    "for mu in muS\n",
    "\n",
    "    #Run for loop in Parallel using all process available for Julia\n",
    "    Threads.@threads :static for i in 1:Ntau+1\n",
    "\n",
    "        taur = taurS[i]\n",
    "        \n",
    "        file = \"Data_States_LIF_EEG_mu_$(mu)_taur_$(taur)_Vd_$(V0d)\"\n",
    "        \n",
    "        filename = ddir*file\n",
    "        \n",
    "        LIF_Sim_TauMu_bymodules(N,Ne,A,KK,KIout,V0d,taur,mu,filename,IIdn,T,dts,h,Transient)\n",
    "\n",
    "        println(\"taur=\",taur,\" mu=\",mu, \":: OK! \")\n",
    "\n",
    "    end\n",
    "    \n",
    "end\n"
   ]
  },
  {
   "cell_type": "code",
   "execution_count": null,
   "id": "c1356a5e-721f-4de8-afa5-410c35314156",
   "metadata": {},
   "outputs": [],
   "source": []
  }
 ],
 "metadata": {
  "kernelspec": {
   "display_name": "Julia 1.8.3",
   "language": "julia",
   "name": "julia-1.8"
  },
  "language_info": {
   "file_extension": ".jl",
   "mimetype": "application/julia",
   "name": "julia",
   "version": "1.8.3"
  }
 },
 "nbformat": 4,
 "nbformat_minor": 5
}
